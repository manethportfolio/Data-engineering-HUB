{
 "cells": [
  {
   "cell_type": "code",
   "execution_count": 29,
   "id": "7ee67dea-2bfc-4f19-a875-5a60c6374e11",
   "metadata": {},
   "outputs": [],
   "source": [
    "import pandas as pd\n",
    "from kafka import KafkaProducer\n",
    "from time import sleep\n",
    "from json import dumps\n",
    "import json"
   ]
  },
  {
   "cell_type": "markdown",
   "id": "15919355-3afb-4c26-bda2-6647193cd52e",
   "metadata": {},
   "source": [
    "#### Setting up the kafka producer"
   ]
  },
  {
   "cell_type": "code",
   "execution_count": 30,
   "id": "fb687aca-0bb6-4e6f-a318-adf4c75ebb71",
   "metadata": {},
   "outputs": [],
   "source": [
    "producer = KafkaProducer(\n",
    "    bootstrap_servers=['54.186.29.13:9092'],\n",
    "    value_serializer=lambda x: dumps(x).encode('utf-8')\n",
    ")"
   ]
  },
  {
   "cell_type": "code",
   "execution_count": null,
   "id": "17b6a654-647d-4abc-808b-c34c47b35202",
   "metadata": {},
   "outputs": [],
   "source": [
    "#### Demo to check if consumer read the input "
   ]
  },
  {
   "cell_type": "code",
   "execution_count": 31,
   "id": "a35f2af5-1f73-45b9-8612-78cbb598a16e",
   "metadata": {},
   "outputs": [
    {
     "data": {
      "text/plain": [
       "<kafka.producer.future.FutureRecordMetadata at 0x1230dc610>"
      ]
     },
     "execution_count": 31,
     "metadata": {},
     "output_type": "execute_result"
    }
   ],
   "source": [
    "producer.send('dem_topic', value={'check': 'kafka'})"
   ]
  },
  {
   "cell_type": "code",
   "execution_count": null,
   "id": "a1434b49-af2b-442c-acdf-bd868f821edc",
   "metadata": {},
   "outputs": [],
   "source": [
    "#### Loading the file into the dataframe "
   ]
  },
  {
   "cell_type": "code",
   "execution_count": 32,
   "id": "269d6617-0692-4b0f-876a-385e362986c0",
   "metadata": {},
   "outputs": [],
   "source": [
    "# Lets load the data into the dataframe \n",
    "df = pd.read_csv(\"/Users/maneth/Desktop/StockMarketData.csv\")"
   ]
  },
  {
   "cell_type": "code",
   "execution_count": 33,
   "id": "50ba857a-809a-4ae0-81f7-4fa72a02b7ee",
   "metadata": {},
   "outputs": [
    {
     "data": {
      "text/html": [
       "<div>\n",
       "<style scoped>\n",
       "    .dataframe tbody tr th:only-of-type {\n",
       "        vertical-align: middle;\n",
       "    }\n",
       "\n",
       "    .dataframe tbody tr th {\n",
       "        vertical-align: top;\n",
       "    }\n",
       "\n",
       "    .dataframe thead th {\n",
       "        text-align: right;\n",
       "    }\n",
       "</style>\n",
       "<table border=\"1\" class=\"dataframe\">\n",
       "  <thead>\n",
       "    <tr style=\"text-align: right;\">\n",
       "      <th></th>\n",
       "      <th>Index</th>\n",
       "      <th>Date</th>\n",
       "      <th>Open</th>\n",
       "      <th>High</th>\n",
       "      <th>Low</th>\n",
       "      <th>Close</th>\n",
       "      <th>Adj Close</th>\n",
       "      <th>Volume</th>\n",
       "      <th>CloseUSD</th>\n",
       "    </tr>\n",
       "  </thead>\n",
       "  <tbody>\n",
       "    <tr>\n",
       "      <th>0</th>\n",
       "      <td>HSI</td>\n",
       "      <td>12/31/86</td>\n",
       "      <td>2568.300049</td>\n",
       "      <td>2568.300049</td>\n",
       "      <td>2568.300049</td>\n",
       "      <td>2568.300049</td>\n",
       "      <td>2568.300049</td>\n",
       "      <td>0</td>\n",
       "      <td>333.879006</td>\n",
       "    </tr>\n",
       "    <tr>\n",
       "      <th>1</th>\n",
       "      <td>HSI</td>\n",
       "      <td>1/2/87</td>\n",
       "      <td>2540.100098</td>\n",
       "      <td>2540.100098</td>\n",
       "      <td>2540.100098</td>\n",
       "      <td>2540.100098</td>\n",
       "      <td>2540.100098</td>\n",
       "      <td>0</td>\n",
       "      <td>330.213013</td>\n",
       "    </tr>\n",
       "    <tr>\n",
       "      <th>2</th>\n",
       "      <td>HSI</td>\n",
       "      <td>1/5/87</td>\n",
       "      <td>2552.399902</td>\n",
       "      <td>2552.399902</td>\n",
       "      <td>2552.399902</td>\n",
       "      <td>2552.399902</td>\n",
       "      <td>2552.399902</td>\n",
       "      <td>0</td>\n",
       "      <td>331.811987</td>\n",
       "    </tr>\n",
       "    <tr>\n",
       "      <th>3</th>\n",
       "      <td>HSI</td>\n",
       "      <td>1/6/87</td>\n",
       "      <td>2583.899902</td>\n",
       "      <td>2583.899902</td>\n",
       "      <td>2583.899902</td>\n",
       "      <td>2583.899902</td>\n",
       "      <td>2583.899902</td>\n",
       "      <td>0</td>\n",
       "      <td>335.906987</td>\n",
       "    </tr>\n",
       "    <tr>\n",
       "      <th>4</th>\n",
       "      <td>HSI</td>\n",
       "      <td>1/7/87</td>\n",
       "      <td>2607.100098</td>\n",
       "      <td>2607.100098</td>\n",
       "      <td>2607.100098</td>\n",
       "      <td>2607.100098</td>\n",
       "      <td>2607.100098</td>\n",
       "      <td>0</td>\n",
       "      <td>338.923013</td>\n",
       "    </tr>\n",
       "  </tbody>\n",
       "</table>\n",
       "</div>"
      ],
      "text/plain": [
       "  Index      Date         Open         High          Low        Close  \\\n",
       "0   HSI  12/31/86  2568.300049  2568.300049  2568.300049  2568.300049   \n",
       "1   HSI    1/2/87  2540.100098  2540.100098  2540.100098  2540.100098   \n",
       "2   HSI    1/5/87  2552.399902  2552.399902  2552.399902  2552.399902   \n",
       "3   HSI    1/6/87  2583.899902  2583.899902  2583.899902  2583.899902   \n",
       "4   HSI    1/7/87  2607.100098  2607.100098  2607.100098  2607.100098   \n",
       "\n",
       "     Adj Close  Volume    CloseUSD  \n",
       "0  2568.300049       0  333.879006  \n",
       "1  2540.100098       0  330.213013  \n",
       "2  2552.399902       0  331.811987  \n",
       "3  2583.899902       0  335.906987  \n",
       "4  2607.100098       0  338.923013  "
      ]
     },
     "execution_count": 33,
     "metadata": {},
     "output_type": "execute_result"
    }
   ],
   "source": [
    "df.head()"
   ]
  },
  {
   "cell_type": "code",
   "execution_count": null,
   "id": "624aac3f-473a-44ab-a42f-67e236da8a88",
   "metadata": {},
   "outputs": [],
   "source": [
    "#### Loop through and produce data to the consumer"
   ]
  },
  {
   "cell_type": "code",
   "execution_count": null,
   "id": "22be4495-ae8d-4bcf-a2c3-b33f5bd1dc1a",
   "metadata": {},
   "outputs": [],
   "source": [
    "# We seek a random sample of data and make it into json data \n",
    "while True:\n",
    "    Stock_dict = df.sample(1).to_dict(orient=\"records\")[0]\n",
    "    producer.send('dem_topic', value=Stock_dict)\n",
    "    sleep(1)"
   ]
  },
  {
   "cell_type": "code",
   "execution_count": null,
   "id": "732bd31b-40a0-4a4a-ad9e-bafc5ab8c9bc",
   "metadata": {},
   "outputs": [],
   "source": [
    "producer.flush()"
   ]
  }
 ],
 "metadata": {
  "kernelspec": {
   "display_name": "Python 3 (ipykernel)",
   "language": "python",
   "name": "python3"
  },
  "language_info": {
   "codemirror_mode": {
    "name": "ipython",
    "version": 3
   },
   "file_extension": ".py",
   "mimetype": "text/x-python",
   "name": "python",
   "nbconvert_exporter": "python",
   "pygments_lexer": "ipython3",
   "version": "3.11.5"
  }
 },
 "nbformat": 4,
 "nbformat_minor": 5
}
