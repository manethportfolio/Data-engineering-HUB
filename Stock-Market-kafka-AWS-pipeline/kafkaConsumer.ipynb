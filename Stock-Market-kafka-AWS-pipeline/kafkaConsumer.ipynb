{
 "cells": [
  {
   "cell_type": "code",
   "execution_count": 18,
   "id": "0652111a-3161-48dd-9781-404d421a3b92",
   "metadata": {},
   "outputs": [],
   "source": [
    "import pandas as pd\n",
    "from kafka import KafkaConsumer\n",
    "from time import sleep\n",
    "from json import dumps\n",
    "import json\n",
    "from s3fs import S3FileSystem"
   ]
  },
  {
   "cell_type": "markdown",
   "id": "f7d97bbd-e3b2-4ad8-984e-03fc42449708",
   "metadata": {},
   "source": [
    "#### Setting up the consumer node from kafka"
   ]
  },
  {
   "cell_type": "code",
   "execution_count": 14,
   "id": "ef7440ac-d215-4aa4-98ad-553a4ca9c66f",
   "metadata": {},
   "outputs": [],
   "source": [
    "consumer = KafkaConsumer(\n",
    "    'dem_topic',\n",
    "    bootstrap_servers=['54.186.29.13:9092'],\n",
    "    value_deserializer=lambda x: json.loads(x.decode('utf-8'))\n",
    ")"
   ]
  },
  {
   "cell_type": "markdown",
   "id": "88b3aa8f-f22b-4da5-a893-272d483c8375",
   "metadata": {},
   "source": [
    "#### Arranging consumer to direct data/files to the s3 bucket"
   ]
  },
  {
   "cell_type": "code",
   "execution_count": 27,
   "id": "fd5f2b91-6edb-4840-975d-e7ddac777e09",
   "metadata": {},
   "outputs": [],
   "source": [
    "s3 = S3FileSystem()"
   ]
  },
  {
   "cell_type": "code",
   "execution_count": null,
   "id": "6cdd9997-0d14-4067-9a11-ed94c6100bda",
   "metadata": {},
   "outputs": [],
   "source": [
    "# We need to store each row streamed into the S3 bucket as a unique row \n",
    "for count, i in enumerate(consumer):\n",
    "    # S3 bucket name and file name \n",
    "    with s3.open(\"s3://kafka-stock-market-pipeline/stock_market_{}.json\".format(count), 'w') as file:\n",
    "        json.dump(i.value,file)"
   ]
  }
 ],
 "metadata": {
  "kernelspec": {
   "display_name": "Python 3 (ipykernel)",
   "language": "python",
   "name": "python3"
  },
  "language_info": {
   "codemirror_mode": {
    "name": "ipython",
    "version": 3
   },
   "file_extension": ".py",
   "mimetype": "text/x-python",
   "name": "python",
   "nbconvert_exporter": "python",
   "pygments_lexer": "ipython3",
   "version": "3.11.5"
  }
 },
 "nbformat": 4,
 "nbformat_minor": 5
}
